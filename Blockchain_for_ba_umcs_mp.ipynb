{
  "nbformat": 4,
  "nbformat_minor": 0,
  "metadata": {
    "colab": {
      "provenance": [],
      "authorship_tag": "ABX9TyPsuLWwbfXnjZlrxxxmCZhi",
      "include_colab_link": true
    },
    "kernelspec": {
      "name": "python3",
      "display_name": "Python 3"
    },
    "language_info": {
      "name": "python"
    }
  },
  "cells": [
    {
      "cell_type": "markdown",
      "metadata": {
        "id": "view-in-github",
        "colab_type": "text"
      },
      "source": [
        "<a href=\"https://colab.research.google.com/github/miet37/CEM-dev-Index/blob/main/Blockchain_for_ba_umcs_mp.ipynb\" target=\"_parent\"><img src=\"https://colab.research.google.com/assets/colab-badge.svg\" alt=\"Open In Colab\"/></a>"
      ]
    },
    {
      "cell_type": "code",
      "execution_count": null,
      "metadata": {
        "id": "0pnIeiwaNSgW"
      },
      "outputs": [],
      "source": [
        "#ag_umcs blockchain"
      ]
    },
    {
      "cell_type": "code",
      "source": [
        "#hashing\n",
        "import hashlib"
      ],
      "metadata": {
        "id": "0VyV31cROI-z"
      },
      "execution_count": 7,
      "outputs": []
    },
    {
      "cell_type": "code",
      "source": [
        "message = 'Blockchain ag_umcs'\n",
        "mh = hashlib.sha256(message.encode())\n",
        "print(mh)"
      ],
      "metadata": {
        "colab": {
          "base_uri": "https://localhost:8080/"
        },
        "id": "QRTyArzLOdc4",
        "outputId": "945fcba4-0acc-46df-c182-5f36dbb1e474"
      },
      "execution_count": null,
      "outputs": [
        {
          "output_type": "stream",
          "name": "stdout",
          "text": [
            "<sha256 _hashlib.HASH object @ 0x79f0b3702f90>\n"
          ]
        }
      ]
    },
    {
      "cell_type": "code",
      "source": [
        "print(mh.digest())\n",
        "print(mh.hexdigest())"
      ],
      "metadata": {
        "colab": {
          "base_uri": "https://localhost:8080/"
        },
        "id": "L1qHGmntPVE_",
        "outputId": "7a423b57-0398-425f-b93a-1da6d3b61829"
      },
      "execution_count": null,
      "outputs": [
        {
          "output_type": "stream",
          "name": "stdout",
          "text": [
            "b'\\xde WQ\\xa4\\xfe\\\\\\xd0{\\xf9\\xa3.&\\xf3\\xb5\\x0c\\xc6\\xe5\\xef\\xc3Y \\xeb\\x84W\\xe1\\xbdc:~\\xc7s'\n",
            "de205751a4fe5cd07bf9a32e26f3b50cc6e5efc35920eb8457e1bd633a7ec773\n"
          ]
        }
      ]
    },
    {
      "cell_type": "code",
      "source": [
        "def ag_hash(m):\n",
        "  mh = hashlib.sha256(m.encode())\n",
        "  return mh.hexdigest()"
      ],
      "metadata": {
        "id": "CpsR76fqQDq3"
      },
      "execution_count": null,
      "outputs": []
    },
    {
      "cell_type": "code",
      "source": [
        "print(ag_hash('blockchain in business application is great'))\n",
        "print(ag_hash('Blockchain ag_umcs'))"
      ],
      "metadata": {
        "colab": {
          "base_uri": "https://localhost:8080/"
        },
        "id": "U6ZZmeATQYkH",
        "outputId": "c095ae7c-cb85-4c13-aaef-1fdab2f6fb49"
      },
      "execution_count": null,
      "outputs": [
        {
          "output_type": "stream",
          "name": "stdout",
          "text": [
            "792a8dbb5f0e3eb96401657f80d1af187e01a1604098eb7ef06320dbee05ecae\n",
            "de205751a4fe5cd07bf9a32e26f3b50cc6e5efc35920eb8457e1bd633a7ec773\n"
          ]
        }
      ]
    },
    {
      "cell_type": "code",
      "source": [
        "class Block:\n",
        "  def __init__(self, prev_block_hash, transaction_list):\n",
        "    self.prev_block_hash = prev_block_hash\n",
        "    self.transaction_list = transaction_list\n",
        "    self.data = f'{\", \".join(transaction_list)}, prev block hash is: {prev_block_hash}'\n",
        "    self.hash = hashlib.sha256(self.data.encode()).hexdigest()\n"
      ],
      "metadata": {
        "id": "8IG7lVapQr6u"
      },
      "execution_count": null,
      "outputs": []
    },
    {
      "cell_type": "code",
      "source": [
        "tr_for_start = ['This is genesis block fo AG blockchain']\n",
        "pr_hash = 'Genesis block'"
      ],
      "metadata": {
        "id": "UdRF8ZoITM6M"
      },
      "execution_count": null,
      "outputs": []
    },
    {
      "cell_type": "code",
      "source": [
        "b0 = Block(pr_hash,tr_for_start)"
      ],
      "metadata": {
        "id": "P4IF2nQgUn4F"
      },
      "execution_count": null,
      "outputs": []
    },
    {
      "cell_type": "code",
      "source": [
        "print(b0.data)\n",
        "print(b0.hash)"
      ],
      "metadata": {
        "colab": {
          "base_uri": "https://localhost:8080/"
        },
        "id": "yG9ynxrUUp0C",
        "outputId": "3e9932a8-234e-441c-e40e-879ddab40b91"
      },
      "execution_count": null,
      "outputs": [
        {
          "output_type": "stream",
          "name": "stdout",
          "text": [
            "This is genesis block fo AG blockchain, prev block hash is: Genesis block\n",
            "928bfbc31cdf8038624035072f0726570ae02a6888be4a1792c096acd3574008\n"
          ]
        }
      ]
    },
    {
      "cell_type": "code",
      "source": [
        "t1 = ['Alice send $2 to Bob','Bob send a chcolate to Alice']\n",
        "b1 = Block(b0.hash,t1)"
      ],
      "metadata": {
        "id": "xYF1ukNLVn8q"
      },
      "execution_count": null,
      "outputs": []
    },
    {
      "cell_type": "code",
      "source": [
        "print(b1.data)\n",
        "print(b1.hash)"
      ],
      "metadata": {
        "colab": {
          "base_uri": "https://localhost:8080/"
        },
        "id": "dMTbgcAUWNUi",
        "outputId": "ab0a70b8-a049-4ba7-904f-d048b70bf106"
      },
      "execution_count": null,
      "outputs": [
        {
          "output_type": "stream",
          "name": "stdout",
          "text": [
            "Alice send $2 to Bob,Bob send a chcolate to Alice, prev block hash is: 928bfbc31cdf8038624035072f0726570ae02a6888be4a1792c096acd3574008\n",
            "d7cbf50477b4ba85164879c066a408a610d75e67ffbed8b2f49ff93c14692691\n"
          ]
        }
      ]
    },
    {
      "cell_type": "code",
      "source": [
        "t2 = ['Charlie pay taxi $3', 'Bob transfer $10 to Alice', 'Alice transfer $20 to Mike']\n",
        "b2 = Block(b1.hash,t2)"
      ],
      "metadata": {
        "id": "ZrwsiSlvYdZp"
      },
      "execution_count": null,
      "outputs": []
    },
    {
      "cell_type": "code",
      "source": [
        "print(b2.data)\n",
        "print(b2.hash)"
      ],
      "metadata": {
        "colab": {
          "base_uri": "https://localhost:8080/"
        },
        "id": "sMaLV4pIZAyA",
        "outputId": "ecc3dad6-3ced-4332-fd05-9f25e2c59efa"
      },
      "execution_count": null,
      "outputs": [
        {
          "output_type": "stream",
          "name": "stdout",
          "text": [
            "Charlie pay taxi $3,Bob transfer $10 to Alice,Alice transfer $20 to Mike, prev block hash is: d7cbf50477b4ba85164879c066a408a610d75e67ffbed8b2f49ff93c14692691\n",
            "06ad77afdf40ce1c9cbf9985d07daff0e62c3b3aa46ed7cb4c33642b81a4f857\n"
          ]
        }
      ]
    },
    {
      "cell_type": "code",
      "source": [],
      "metadata": {
        "id": "6tGX-QR-atCS"
      },
      "execution_count": null,
      "outputs": []
    },
    {
      "cell_type": "code",
      "source": [
        "\n",
        "class AutoBlock:\n",
        "  def __init__(self,prev_hash,trans):\n",
        "    self.prev_block_hash = prev_hash\n",
        "    self.data = f'{\", \".join(trans)}, prev block is: {prev_hash}'\n",
        "    self.hash = hashlib.sha256(self.data.encode()).hexdigest()\n",
        "    self.register = [self.hash, self.data]\n",
        "\n"
      ],
      "metadata": {
        "id": "tz7MyeqYas6C"
      },
      "execution_count": 23,
      "outputs": []
    },
    {
      "cell_type": "code",
      "source": [
        "block_register = []\n",
        "block_register = [['0','genessis block']]"
      ],
      "metadata": {
        "id": "HArBfDOTh0kT"
      },
      "execution_count": 32,
      "outputs": []
    },
    {
      "cell_type": "code",
      "source": [
        "t1 = ['Alice send $2 to Bob','Bob send a chcolate to Alice']"
      ],
      "metadata": {
        "id": "4LXsShLLasGK"
      },
      "execution_count": 33,
      "outputs": []
    },
    {
      "cell_type": "code",
      "source": [
        "ab = AutoBlock(block_register[-1][0],t1)"
      ],
      "metadata": {
        "id": "Xx1fyYXac5mP"
      },
      "execution_count": 34,
      "outputs": []
    },
    {
      "cell_type": "code",
      "source": [
        "print(ab.data)\n",
        "print(ab.hash)"
      ],
      "metadata": {
        "colab": {
          "base_uri": "https://localhost:8080/"
        },
        "id": "kUdb5mu4c5A4",
        "outputId": "ee1df52b-38bf-4319-a382-8e86b82b21f6"
      },
      "execution_count": 35,
      "outputs": [
        {
          "output_type": "stream",
          "name": "stdout",
          "text": [
            "Alice send $2 to Bob, Bob send a chcolate to Alice, prev block is: 0\n",
            "d7a34c0d69fa1dc190466829e440b88b7ffb26fdb86c35aaf966bffda5d6f988\n"
          ]
        }
      ]
    },
    {
      "cell_type": "code",
      "source": [
        "block_register.append(ab.register)\n",
        "print(block_register)"
      ],
      "metadata": {
        "colab": {
          "base_uri": "https://localhost:8080/"
        },
        "id": "CeSSl5-OhtsE",
        "outputId": "75de44c5-fbf9-42a0-83b5-e2f82df0fb88"
      },
      "execution_count": 36,
      "outputs": [
        {
          "output_type": "stream",
          "name": "stdout",
          "text": [
            "[['0', 'genessis block'], ['d7a34c0d69fa1dc190466829e440b88b7ffb26fdb86c35aaf966bffda5d6f988', 'Alice send $2 to Bob, Bob send a chcolate to Alice, prev block is: 0']]\n"
          ]
        }
      ]
    },
    {
      "cell_type": "code",
      "source": [
        "for i in range(5):\n",
        "  t = [f'Alice send ${i+1*3} to Bob', f'Bob send ${i+1*2} to Roman']\n",
        "\n",
        "  ab = AutoBlock(block_register[-1][0],t)\n",
        "  block_register.append(ab.register)\n",
        "  print(i, ab.data)\n",
        "  print(ab.hash)"
      ],
      "metadata": {
        "colab": {
          "base_uri": "https://localhost:8080/"
        },
        "id": "E8CkbdLSeCKf",
        "outputId": "3a30709c-31b4-4593-9c49-bb40c1df4597"
      },
      "execution_count": 37,
      "outputs": [
        {
          "output_type": "stream",
          "name": "stdout",
          "text": [
            "0 Alice send $3 to Bob, Bob send $2 to Roman, prev block is: d7a34c0d69fa1dc190466829e440b88b7ffb26fdb86c35aaf966bffda5d6f988\n",
            "407cd0207cb1cb70deafee63589e3f1b65280f132c816c8c33c06322f176df24\n",
            "1 Alice send $4 to Bob, Bob send $3 to Roman, prev block is: 407cd0207cb1cb70deafee63589e3f1b65280f132c816c8c33c06322f176df24\n",
            "18e23f51441c89d2e0292f98d487767c6f6d076f493af98b446c081881fb6511\n",
            "2 Alice send $5 to Bob, Bob send $4 to Roman, prev block is: 18e23f51441c89d2e0292f98d487767c6f6d076f493af98b446c081881fb6511\n",
            "4669937f71c26b96ae71f6c1709792634e816f9d293c0874d99bc06b986b2693\n",
            "3 Alice send $6 to Bob, Bob send $5 to Roman, prev block is: 4669937f71c26b96ae71f6c1709792634e816f9d293c0874d99bc06b986b2693\n",
            "4777257189ee627341e1508113889ddd48ba7b2aaea7f29e5e2fda7e460ac27f\n",
            "4 Alice send $7 to Bob, Bob send $6 to Roman, prev block is: 4777257189ee627341e1508113889ddd48ba7b2aaea7f29e5e2fda7e460ac27f\n",
            "d025184a8e3436b10486a65cc4f787ab5174a53e2b1927525741b244ed2d6731\n"
          ]
        }
      ]
    },
    {
      "cell_type": "code",
      "source": [
        "for b in block_register:\n",
        "  print(b)"
      ],
      "metadata": {
        "colab": {
          "base_uri": "https://localhost:8080/"
        },
        "id": "7lUHkhEYeCBo",
        "outputId": "69638070-4dc2-4cab-b962-969f4cfaa186"
      },
      "execution_count": 38,
      "outputs": [
        {
          "output_type": "stream",
          "name": "stdout",
          "text": [
            "['0', 'genessis block']\n",
            "['d7a34c0d69fa1dc190466829e440b88b7ffb26fdb86c35aaf966bffda5d6f988', 'Alice send $2 to Bob, Bob send a chcolate to Alice, prev block is: 0']\n",
            "['407cd0207cb1cb70deafee63589e3f1b65280f132c816c8c33c06322f176df24', 'Alice send $3 to Bob, Bob send $2 to Roman, prev block is: d7a34c0d69fa1dc190466829e440b88b7ffb26fdb86c35aaf966bffda5d6f988']\n",
            "['18e23f51441c89d2e0292f98d487767c6f6d076f493af98b446c081881fb6511', 'Alice send $4 to Bob, Bob send $3 to Roman, prev block is: 407cd0207cb1cb70deafee63589e3f1b65280f132c816c8c33c06322f176df24']\n",
            "['4669937f71c26b96ae71f6c1709792634e816f9d293c0874d99bc06b986b2693', 'Alice send $5 to Bob, Bob send $4 to Roman, prev block is: 18e23f51441c89d2e0292f98d487767c6f6d076f493af98b446c081881fb6511']\n",
            "['4777257189ee627341e1508113889ddd48ba7b2aaea7f29e5e2fda7e460ac27f', 'Alice send $6 to Bob, Bob send $5 to Roman, prev block is: 4669937f71c26b96ae71f6c1709792634e816f9d293c0874d99bc06b986b2693']\n",
            "['d025184a8e3436b10486a65cc4f787ab5174a53e2b1927525741b244ed2d6731', 'Alice send $7 to Bob, Bob send $6 to Roman, prev block is: 4777257189ee627341e1508113889ddd48ba7b2aaea7f29e5e2fda7e460ac27f']\n"
          ]
        }
      ]
    },
    {
      "cell_type": "code",
      "source": [
        "def veryfy_register(block_register):\n",
        "  b0 = block_register[0]\n",
        "  ver = False\n",
        "  for b in block_register[1:]:\n",
        "    b1 = b[1].split(':')\n",
        "    #print(b1[1])\n",
        "    #print(b0[0])\n",
        "    if b1[1].strip() == b0[0]:\n",
        "      print('block correct')\n",
        "      ver = True\n",
        "    else:\n",
        "      print('block wrong','\\n',b0)\n",
        "      return False\n",
        "\n",
        "    b0 = b\n",
        "  return ver"
      ],
      "metadata": {
        "id": "yELiT6L3eByg"
      },
      "execution_count": 65,
      "outputs": []
    },
    {
      "cell_type": "code",
      "source": [
        "veryfy_register(block_register)"
      ],
      "metadata": {
        "id": "PB4YrWbLolAd"
      },
      "execution_count": null,
      "outputs": []
    },
    {
      "cell_type": "code",
      "source": [
        "#hacking block\n",
        "i=0\n",
        "for b in block_register:\n",
        "  print(i)\n",
        "  if b[1] == 'Alice send $3 to Bob, Bob send $2 to Roman, prev block is: d7a34c0d69fa1dc190466829e440b88b7ffb26fdb86c35aaf966bffda5d6f988':\n",
        "    print('-->',i)\n",
        "  i+=1"
      ],
      "metadata": {
        "colab": {
          "base_uri": "https://localhost:8080/"
        },
        "id": "BKZe_KnNk2L4",
        "outputId": "627e847b-e18e-46cb-fee7-a2c7c011b568"
      },
      "execution_count": 49,
      "outputs": [
        {
          "output_type": "stream",
          "name": "stdout",
          "text": [
            "0\n",
            "1\n",
            "2\n",
            "--> 2\n",
            "3\n",
            "4\n",
            "5\n",
            "6\n"
          ]
        }
      ]
    },
    {
      "cell_type": "code",
      "source": [
        "# block_register[2] == ??"
      ],
      "metadata": {
        "colab": {
          "base_uri": "https://localhost:8080/"
        },
        "id": "y8vWF9iQmGxX",
        "outputId": "cf28c6c9-0d6b-493b-ba40-187923f31344"
      },
      "execution_count": 50,
      "outputs": [
        {
          "output_type": "execute_result",
          "data": {
            "text/plain": [
              "['407cd0207cb1cb70deafee63589e3f1b65280f132c816c8c33c06322f176df24',\n",
              " 'Alice send $3 to Bob, Bob send $2 to Roman, prev block is: d7a34c0d69fa1dc190466829e440b88b7ffb26fdb86c35aaf966bffda5d6f988']"
            ]
          },
          "metadata": {},
          "execution_count": 50
        }
      ]
    },
    {
      "cell_type": "code",
      "source": [
        "t_hacked = 'Alice send $300 to Marie, Bob send $2 to Roman, prev block is: d7a34c0d69fa1dc190466829e440b88b7ffb26fdb86c35aaf966bffda5d6f988'"
      ],
      "metadata": {
        "id": "upe3nv7rmY6m"
      },
      "execution_count": 51,
      "outputs": []
    },
    {
      "cell_type": "code",
      "source": [
        "t_hacked_hash = hashlib.sha256(t_hacked.encode()).hexdigest()\n",
        "print(t_hacked_hash)"
      ],
      "metadata": {
        "colab": {
          "base_uri": "https://localhost:8080/"
        },
        "id": "ews7dRuem0Uv",
        "outputId": "86316edc-4003-4c06-fe3a-04936e09ecb3"
      },
      "execution_count": 52,
      "outputs": [
        {
          "output_type": "stream",
          "name": "stdout",
          "text": [
            "17598209e7b3a79f5c3c7e948d88e64be45549f34046d289098b784f1f111e87\n"
          ]
        }
      ]
    },
    {
      "cell_type": "code",
      "source": [
        "block_register[2] = ['17598209e7b3a79f5c3c7e948d88e64be45549f34046d289098b784f1f111e87', t_hacked]"
      ],
      "metadata": {
        "id": "QII3zovrnHY2"
      },
      "execution_count": 53,
      "outputs": []
    },
    {
      "cell_type": "code",
      "source": [
        "print(block_register[2])"
      ],
      "metadata": {
        "colab": {
          "base_uri": "https://localhost:8080/"
        },
        "id": "uDvaeqYQngon",
        "outputId": "78e0dfe5-732c-47c3-df67-b5df0812dd6a"
      },
      "execution_count": 54,
      "outputs": [
        {
          "output_type": "stream",
          "name": "stdout",
          "text": [
            "['17598209e7b3a79f5c3c7e948d88e64be45549f34046d289098b784f1f111e87', 'Alice send $300 to Marie, Bob send $2 to Roman, prev block is: d7a34c0d69fa1dc190466829e440b88b7ffb26fdb86c35aaf966bffda5d6f988']\n"
          ]
        }
      ]
    },
    {
      "cell_type": "code",
      "source": [
        "print(block_register)"
      ],
      "metadata": {
        "colab": {
          "base_uri": "https://localhost:8080/"
        },
        "id": "_VSfX4RLnglG",
        "outputId": "abed267c-7415-478e-dc92-630abc09e531"
      },
      "execution_count": 60,
      "outputs": [
        {
          "output_type": "stream",
          "name": "stdout",
          "text": [
            "[['0', 'genessis block'], ['d7a34c0d69fa1dc190466829e440b88b7ffb26fdb86c35aaf966bffda5d6f988', 'Alice send $2 to Bob, Bob send a chcolate to Alice, prev block is: 0'], ['17598209e7b3a79f5c3c7e948d88e64be45549f34046d289098b784f1f111e87', 'Alice send $300 to Marie, Bob send $2 to Roman, prev block is: d7a34c0d69fa1dc190466829e440b88b7ffb26fdb86c35aaf966bffda5d6f988'], ['18e23f51441c89d2e0292f98d487767c6f6d076f493af98b446c081881fb6511', 'Alice send $4 to Bob, Bob send $3 to Roman, prev block is: 407cd0207cb1cb70deafee63589e3f1b65280f132c816c8c33c06322f176df24'], ['4669937f71c26b96ae71f6c1709792634e816f9d293c0874d99bc06b986b2693', 'Alice send $5 to Bob, Bob send $4 to Roman, prev block is: 18e23f51441c89d2e0292f98d487767c6f6d076f493af98b446c081881fb6511'], ['4777257189ee627341e1508113889ddd48ba7b2aaea7f29e5e2fda7e460ac27f', 'Alice send $6 to Bob, Bob send $5 to Roman, prev block is: 4669937f71c26b96ae71f6c1709792634e816f9d293c0874d99bc06b986b2693'], ['d025184a8e3436b10486a65cc4f787ab5174a53e2b1927525741b244ed2d6731', 'Alice send $7 to Bob, Bob send $6 to Roman, prev block is: 4777257189ee627341e1508113889ddd48ba7b2aaea7f29e5e2fda7e460ac27f']]\n"
          ]
        }
      ]
    },
    {
      "cell_type": "code",
      "source": [
        "veryfy_register(block_register)"
      ],
      "metadata": {
        "colab": {
          "base_uri": "https://localhost:8080/"
        },
        "id": "wajXFL2hngiG",
        "outputId": "a6b124e6-5e45-41ae-8a4f-5e9e44ca7035"
      },
      "execution_count": 66,
      "outputs": [
        {
          "output_type": "stream",
          "name": "stdout",
          "text": [
            "block correct\n",
            "block correct\n",
            "block wrong \n",
            " ['17598209e7b3a79f5c3c7e948d88e64be45549f34046d289098b784f1f111e87', 'Alice send $300 to Marie, Bob send $2 to Roman, prev block is: d7a34c0d69fa1dc190466829e440b88b7ffb26fdb86c35aaf966bffda5d6f988']\n"
          ]
        },
        {
          "output_type": "execute_result",
          "data": {
            "text/plain": [
              "False"
            ]
          },
          "metadata": {},
          "execution_count": 66
        }
      ]
    },
    {
      "cell_type": "code",
      "source": [],
      "metadata": {
        "id": "IHdHDzepngem"
      },
      "execution_count": null,
      "outputs": []
    }
  ]
}